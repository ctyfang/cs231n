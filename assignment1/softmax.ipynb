{
 "cells": [
  {
   "cell_type": "markdown",
   "metadata": {
    "tags": [
     "pdf-title"
    ]
   },
   "source": [
    "# Softmax exercise\n",
    "\n",
    "*Complete and hand in this completed worksheet (including its outputs and any supporting code outside of the worksheet) with your assignment submission. For more details see the [assignments page](http://vision.stanford.edu/teaching/cs231n/assignments.html) on the course website.*\n",
    "\n",
    "This exercise is analogous to the SVM exercise. You will:\n",
    "\n",
    "- implement a fully-vectorized **loss function** for the Softmax classifier\n",
    "- implement the fully-vectorized expression for its **analytic gradient**\n",
    "- **check your implementation** with numerical gradient\n",
    "- use a validation set to **tune the learning rate and regularization** strength\n",
    "- **optimize** the loss function with **SGD**\n",
    "- **visualize** the final learned weights\n"
   ]
  },
  {
   "cell_type": "code",
   "execution_count": 1,
   "metadata": {
    "tags": [
     "pdf-ignore"
    ]
   },
   "outputs": [],
   "source": [
    "import random\n",
    "import numpy as np\n",
    "from cs231n.data_utils import load_CIFAR10\n",
    "import matplotlib.pyplot as plt\n",
    "\n",
    "%matplotlib inline\n",
    "plt.rcParams['figure.figsize'] = (10.0, 8.0) # set default size of plots\n",
    "plt.rcParams['image.interpolation'] = 'nearest'\n",
    "plt.rcParams['image.cmap'] = 'gray'\n",
    "\n",
    "# for auto-reloading extenrnal modules\n",
    "# see http://stackoverflow.com/questions/1907993/autoreload-of-modules-in-ipython\n",
    "%load_ext autoreload\n",
    "%autoreload 2"
   ]
  },
  {
   "cell_type": "code",
   "execution_count": 2,
   "metadata": {
    "tags": [
     "pdf-ignore"
    ]
   },
   "outputs": [
    {
     "name": "stdout",
     "output_type": "stream",
     "text": [
      "Train data shape:  (49000, 3073)\n",
      "Train labels shape:  (49000,)\n",
      "Validation data shape:  (1000, 3073)\n",
      "Validation labels shape:  (1000,)\n",
      "Test data shape:  (1000, 3073)\n",
      "Test labels shape:  (1000,)\n",
      "dev data shape:  (500, 3073)\n",
      "dev labels shape:  (500,)\n"
     ]
    }
   ],
   "source": [
    "def get_CIFAR10_data(num_training=49000, num_validation=1000, num_test=1000, num_dev=500):\n",
    "    \"\"\"\n",
    "    Load the CIFAR-10 dataset from disk and perform preprocessing to prepare\n",
    "    it for the linear classifier. These are the same steps as we used for the\n",
    "    SVM, but condensed to a single function.  \n",
    "    \"\"\"\n",
    "    # Load the raw CIFAR-10 data\n",
    "    cifar10_dir = 'cs231n/datasets/cifar-10-batches-py'\n",
    "    \n",
    "    # Cleaning up variables to prevent loading data multiple times (which may cause memory issue)\n",
    "    try:\n",
    "       del X_train, y_train\n",
    "       del X_test, y_test\n",
    "       print('Clear previously loaded data.')\n",
    "    except:\n",
    "       pass\n",
    "\n",
    "    X_train, y_train, X_test, y_test = load_CIFAR10(cifar10_dir)\n",
    "    \n",
    "    # subsample the data\n",
    "    mask = list(range(num_training, num_training + num_validation))\n",
    "    X_val = X_train[mask]\n",
    "    y_val = y_train[mask]\n",
    "    mask = list(range(num_training))\n",
    "    X_train = X_train[mask]\n",
    "    y_train = y_train[mask]\n",
    "    mask = list(range(num_test))\n",
    "    X_test = X_test[mask]\n",
    "    y_test = y_test[mask]\n",
    "    mask = np.random.choice(num_training, num_dev, replace=False)\n",
    "    X_dev = X_train[mask]\n",
    "    y_dev = y_train[mask]\n",
    "    \n",
    "    # Preprocessing: reshape the image data into rows\n",
    "    X_train = np.reshape(X_train, (X_train.shape[0], -1))\n",
    "    X_val = np.reshape(X_val, (X_val.shape[0], -1))\n",
    "    X_test = np.reshape(X_test, (X_test.shape[0], -1))\n",
    "    X_dev = np.reshape(X_dev, (X_dev.shape[0], -1))\n",
    "    \n",
    "    # Normalize the data: subtract the mean image\n",
    "    mean_image = np.mean(X_train, axis = 0)\n",
    "    X_train -= mean_image\n",
    "    X_val -= mean_image\n",
    "    X_test -= mean_image\n",
    "    X_dev -= mean_image\n",
    "    \n",
    "    # add bias dimension and transform into columns\n",
    "    X_train = np.hstack([X_train, np.ones((X_train.shape[0], 1))])\n",
    "    X_val = np.hstack([X_val, np.ones((X_val.shape[0], 1))])\n",
    "    X_test = np.hstack([X_test, np.ones((X_test.shape[0], 1))])\n",
    "    X_dev = np.hstack([X_dev, np.ones((X_dev.shape[0], 1))])\n",
    "    \n",
    "    return X_train, y_train, X_val, y_val, X_test, y_test, X_dev, y_dev\n",
    "\n",
    "\n",
    "# Invoke the above function to get our data.\n",
    "X_train, y_train, X_val, y_val, X_test, y_test, X_dev, y_dev = get_CIFAR10_data()\n",
    "print('Train data shape: ', X_train.shape)\n",
    "print('Train labels shape: ', y_train.shape)\n",
    "print('Validation data shape: ', X_val.shape)\n",
    "print('Validation labels shape: ', y_val.shape)\n",
    "print('Test data shape: ', X_test.shape)\n",
    "print('Test labels shape: ', y_test.shape)\n",
    "print('dev data shape: ', X_dev.shape)\n",
    "print('dev labels shape: ', y_dev.shape)"
   ]
  },
  {
   "cell_type": "markdown",
   "metadata": {},
   "source": [
    "## Softmax Classifier\n",
    "\n",
    "Your code for this section will all be written inside **cs231n/classifiers/softmax.py**. \n"
   ]
  },
  {
   "cell_type": "code",
   "execution_count": 3,
   "metadata": {},
   "outputs": [
    {
     "name": "stdout",
     "output_type": "stream",
     "text": [
      "loss: 2.330634\n",
      "sanity check: 2.302585\n"
     ]
    }
   ],
   "source": [
    "# First implement the naive softmax loss function with nested loops.\n",
    "# Open the file cs231n/classifiers/softmax.py and implement the\n",
    "# softmax_loss_naive function.\n",
    "\n",
    "from cs231n.classifiers.softmax import softmax_loss_naive\n",
    "import time\n",
    "\n",
    "# Generate a random softmax weight matrix and use it to compute the loss.\n",
    "W = np.random.randn(3073, 10) * 0.0001\n",
    "loss, grad = softmax_loss_naive(W, X_dev, y_dev, 0.0)\n",
    "\n",
    "# As a rough sanity check, our loss should be something close to -log(0.1).\n",
    "print('loss: %f' % loss)\n",
    "print('sanity check: %f' % (-np.log(0.1)))"
   ]
  },
  {
   "cell_type": "markdown",
   "metadata": {
    "tags": [
     "pdf-inline"
    ]
   },
   "source": [
    "**Inline Question 1**\n",
    "\n",
    "Why do we expect our loss to be close to -log(0.1)? Explain briefly.**\n",
    "\n",
    "$\\color{blue}{\\textit Your Answer:}$ At initialization, probabilities of each class should be equally likely, hence the probability of the correct class is 1/number of classes. Consequently the average loss across all examples should be -log(1/number of classes) where number of classes is 10 in this case.\n",
    "\n"
   ]
  },
  {
   "cell_type": "code",
   "execution_count": 4,
   "metadata": {},
   "outputs": [
    {
     "name": "stdout",
     "output_type": "stream",
     "text": [
      "numerical: -2.239721 analytic: -2.239721, relative error: 7.247121e-10\n",
      "numerical: -1.915267 analytic: -1.915267, relative error: 2.333877e-08\n",
      "numerical: 0.541832 analytic: 0.541832, relative error: 6.780547e-09\n",
      "numerical: 0.803811 analytic: 0.803811, relative error: 7.629405e-08\n",
      "numerical: 2.834405 analytic: 2.834405, relative error: 5.023112e-09\n",
      "numerical: -3.774106 analytic: -3.774106, relative error: 7.088539e-09\n",
      "numerical: 0.713016 analytic: 0.713016, relative error: 2.176778e-08\n",
      "numerical: -0.380304 analytic: -0.380304, relative error: 1.456687e-08\n",
      "numerical: -0.208473 analytic: -0.208473, relative error: 2.666071e-08\n",
      "numerical: 0.349687 analytic: 0.349687, relative error: 3.675757e-08\n",
      "numerical: -0.458478 analytic: 1.090237, relative error: 1.000000e+00\n",
      "numerical: 2.019186 analytic: 3.604233, relative error: 2.818654e-01\n",
      "numerical: 0.902823 analytic: 2.471375, relative error: 4.648666e-01\n",
      "numerical: -0.139132 analytic: 1.426298, relative error: 1.000000e+00\n",
      "numerical: -0.333479 analytic: 1.232015, relative error: 1.000000e+00\n",
      "numerical: 1.830844 analytic: 3.391634, relative error: 2.988600e-01\n",
      "numerical: 2.164948 analytic: 3.715632, relative error: 2.636958e-01\n",
      "numerical: 3.219255 analytic: 4.770981, relative error: 1.942027e-01\n",
      "numerical: 0.816384 analytic: 2.386450, relative error: 4.902114e-01\n",
      "numerical: -0.081894 analytic: 1.462864, relative error: 1.000000e+00\n"
     ]
    }
   ],
   "source": [
    "# Complete the implementation of softmax_loss_naive and implement a (naive)\n",
    "# version of the gradient that uses nested loops.\n",
    "loss, grad = softmax_loss_naive(W, X_dev, y_dev, 0.0)\n",
    "\n",
    "# As we did for the SVM, use numeric gradient checking as a debugging tool.\n",
    "# The numeric gradient should be close to the analytic gradient.\n",
    "from cs231n.gradient_check import grad_check_sparse\n",
    "f = lambda w: softmax_loss_naive(w, X_dev, y_dev, 0.0)[0]\n",
    "grad_numerical = grad_check_sparse(f, W, grad, 10)\n",
    "\n",
    "# similar to SVM case, do another gradient check with regularization\n",
    "loss, grad = softmax_loss_naive(W, X_dev, y_dev, 5e1)\n",
    "f = lambda w: softmax_loss_naive(w, X_dev, y_dev, 5e1)[0]\n",
    "grad_numerical = grad_check_sparse(f, W, grad, 10)"
   ]
  },
  {
   "cell_type": "code",
   "execution_count": 5,
   "metadata": {},
   "outputs": [
    {
     "name": "stdout",
     "output_type": "stream",
     "text": [
      "naive loss: 2.330634e+00 computed in 0.065621s\n",
      "vectorized loss: 2.330634e+00 computed in 0.009680s\n",
      "Loss difference: 0.000000\n",
      "Gradient difference: 0.000000\n"
     ]
    }
   ],
   "source": [
    "# Now that we have a naive implementation of the softmax loss function and its gradient,\n",
    "# implement a vectorized version in softmax_loss_vectorized.\n",
    "# The two versions should compute the same results, but the vectorized version should be\n",
    "# much faster.\n",
    "tic = time.time()\n",
    "loss_naive, grad_naive = softmax_loss_naive(W, X_dev, y_dev, 0.000005)\n",
    "toc = time.time()\n",
    "print('naive loss: %e computed in %fs' % (loss_naive, toc - tic))\n",
    "\n",
    "from cs231n.classifiers.softmax import softmax_loss_vectorized\n",
    "tic = time.time()\n",
    "loss_vectorized, grad_vectorized = softmax_loss_vectorized(W, X_dev, y_dev, 0.000005)\n",
    "toc = time.time()\n",
    "print('vectorized loss: %e computed in %fs' % (loss_vectorized, toc - tic))\n",
    "\n",
    "# As we did for the SVM, we use the Frobenius norm to compare the two versions\n",
    "# of the gradient.\n",
    "grad_difference = np.linalg.norm(grad_naive - grad_vectorized, ord='fro')\n",
    "print('Loss difference: %f' % np.abs(loss_naive - loss_vectorized))\n",
    "print('Gradient difference: %f' % grad_difference)"
   ]
  },
  {
   "cell_type": "code",
   "execution_count": 6,
   "metadata": {
    "tags": [
     "code"
    ]
   },
   "outputs": [
    {
     "name": "stdout",
     "output_type": "stream",
     "text": [
      "iteration 0 / 1000: loss 5.143129\n",
      "iteration 100 / 1000: loss 2.184092\n",
      "iteration 200 / 1000: loss 2.287992\n",
      "iteration 300 / 1000: loss 2.166170\n",
      "iteration 400 / 1000: loss 2.271767\n",
      "iteration 500 / 1000: loss 1.942772\n",
      "iteration 600 / 1000: loss 1.928442\n",
      "iteration 700 / 1000: loss 1.837281\n",
      "iteration 800 / 1000: loss 1.911528\n",
      "iteration 900 / 1000: loss 1.932526\n",
      "iteration 0 / 1000: loss 5.212392\n",
      "iteration 100 / 1000: loss 2.240481\n",
      "iteration 200 / 1000: loss 2.090300\n",
      "iteration 300 / 1000: loss 2.007774\n",
      "iteration 400 / 1000: loss 2.011541\n",
      "iteration 500 / 1000: loss 2.093747\n",
      "iteration 600 / 1000: loss 1.948063\n",
      "iteration 700 / 1000: loss 2.120832\n",
      "iteration 800 / 1000: loss 1.861909\n",
      "iteration 900 / 1000: loss 1.836924\n",
      "iteration 0 / 1000: loss 6.585394\n",
      "iteration 100 / 1000: loss 2.388989\n",
      "iteration 200 / 1000: loss 2.042921\n",
      "iteration 300 / 1000: loss 2.113639\n",
      "iteration 400 / 1000: loss 1.882757\n",
      "iteration 500 / 1000: loss 1.874827\n",
      "iteration 600 / 1000: loss 1.791393\n",
      "iteration 700 / 1000: loss 1.870039\n",
      "iteration 800 / 1000: loss 1.998613\n",
      "iteration 900 / 1000: loss 1.919926\n",
      "iteration 0 / 1000: loss 5.539892\n",
      "iteration 100 / 1000: loss 3.772097\n",
      "iteration 200 / 1000: loss 2.570525\n",
      "iteration 300 / 1000: loss 2.363375\n",
      "iteration 400 / 1000: loss 2.699291\n",
      "iteration 500 / 1000: loss 2.418040\n",
      "iteration 600 / 1000: loss 2.675333\n",
      "iteration 700 / 1000: loss 4.351727\n",
      "iteration 800 / 1000: loss 3.422218\n",
      "iteration 900 / 1000: loss 2.139766\n",
      "iteration 0 / 1000: loss 6.012230\n",
      "iteration 100 / 1000: loss 3.885017\n",
      "iteration 200 / 1000: loss 2.241737\n",
      "iteration 300 / 1000: loss 2.814769\n",
      "iteration 400 / 1000: loss 2.180965\n",
      "iteration 500 / 1000: loss 2.383887\n",
      "iteration 600 / 1000: loss 3.333294\n",
      "iteration 700 / 1000: loss 2.736240\n",
      "iteration 800 / 1000: loss 4.047829\n",
      "iteration 900 / 1000: loss 3.016860\n",
      "iteration 0 / 1000: loss 5.798604\n",
      "iteration 100 / 1000: loss 2.933480\n",
      "iteration 200 / 1000: loss 3.886946\n",
      "iteration 300 / 1000: loss 2.912911\n",
      "iteration 400 / 1000: loss 2.745999\n",
      "iteration 500 / 1000: loss 2.461666\n",
      "iteration 600 / 1000: loss 3.017212\n",
      "iteration 700 / 1000: loss 4.423060\n",
      "iteration 800 / 1000: loss 2.386016\n",
      "iteration 900 / 1000: loss 3.367329\n",
      "iteration 0 / 1000: loss 5.508786\n",
      "iteration 100 / 1000: loss 7.757684\n",
      "iteration 200 / 1000: loss 11.058526\n",
      "iteration 300 / 1000: loss 8.351745\n",
      "iteration 400 / 1000: loss 8.069699\n",
      "iteration 500 / 1000: loss 11.887143\n",
      "iteration 600 / 1000: loss 8.849328\n",
      "iteration 700 / 1000: loss 7.069195\n",
      "iteration 800 / 1000: loss 8.831979\n",
      "iteration 900 / 1000: loss 10.482714\n",
      "iteration 0 / 1000: loss 5.259434\n",
      "iteration 100 / 1000: loss 9.559487\n",
      "iteration 200 / 1000: loss 8.754732\n",
      "iteration 300 / 1000: loss 6.622852\n",
      "iteration 400 / 1000: loss 5.603218\n",
      "iteration 500 / 1000: loss 5.417645\n",
      "iteration 600 / 1000: loss 4.506419\n",
      "iteration 700 / 1000: loss 11.390227\n",
      "iteration 800 / 1000: loss 7.507128\n",
      "iteration 900 / 1000: loss 6.343436\n",
      "iteration 0 / 1000: loss 5.767363\n",
      "iteration 100 / 1000: loss 8.708723\n",
      "iteration 200 / 1000: loss 6.768129\n",
      "iteration 300 / 1000: loss 9.523261\n",
      "iteration 400 / 1000: loss 8.910482\n",
      "iteration 500 / 1000: loss 8.967426\n",
      "iteration 600 / 1000: loss 7.313377\n",
      "iteration 700 / 1000: loss 10.501363\n",
      "iteration 800 / 1000: loss 7.060305\n",
      "iteration 900 / 1000: loss 8.890667\n",
      "lr 5.000000e-06 reg 1.000000e-04 train accuracy: 0.377755 val accuracy: 0.371000\n",
      "lr 5.000000e-06 reg 5.000000e-04 train accuracy: 0.371102 val accuracy: 0.365000\n",
      "lr 5.000000e-06 reg 1.000000e-03 train accuracy: 0.385122 val accuracy: 0.360000\n",
      "lr 1.000000e-05 reg 1.000000e-04 train accuracy: 0.303327 val accuracy: 0.297000\n",
      "lr 1.000000e-05 reg 5.000000e-04 train accuracy: 0.286510 val accuracy: 0.259000\n",
      "lr 1.000000e-05 reg 1.000000e-03 train accuracy: 0.284939 val accuracy: 0.273000\n",
      "lr 3.000000e-05 reg 1.000000e-04 train accuracy: 0.306327 val accuracy: 0.302000\n",
      "lr 3.000000e-05 reg 5.000000e-04 train accuracy: 0.341122 val accuracy: 0.320000\n",
      "lr 3.000000e-05 reg 1.000000e-03 train accuracy: 0.297551 val accuracy: 0.276000\n",
      "best validation accuracy achieved during cross-validation: 0.371000\n"
     ]
    }
   ],
   "source": [
    "# Use the validation set to tune hyperparameters (regularization strength and\n",
    "# learning rate). You should experiment with different ranges for the learning\n",
    "# rates and regularization strengths; if you are careful you should be able to\n",
    "# get a classification accuracy of over 0.35 on the validation set.\n",
    "from cs231n.classifiers import Softmax\n",
    "results = {}\n",
    "best_val = -1\n",
    "best_softmax = None\n",
    "learning_rates = [5e-6, 1e-5, 3e-5]\n",
    "regularization_strengths = [1e-4, 5e-4, 1e-3]\n",
    "iters = 1000\n",
    "\n",
    "################################################################################\n",
    "# TODO:                                                                        #\n",
    "# Use the validation set to set the learning rate and regularization strength. #\n",
    "# This should be identical to the validation that you did for the SVM; save    #\n",
    "# the best trained softmax classifer in best_softmax.                          #\n",
    "################################################################################\n",
    "# *****START OF YOUR CODE (DO NOT DELETE/MODIFY THIS LINE)*****\n",
    "\n",
    "for alpha in learning_rates:\n",
    "    for beta in regularization_strengths:\n",
    "        softmax = Softmax()\n",
    "        softmax.train(X_train, y_train, learning_rate=alpha, reg=beta, num_iters=iters, verbose=True)\n",
    "        \n",
    "        y_tr_pred = softmax.predict(X_train)\n",
    "        y_val_pred = softmax.predict(X_val)\n",
    "        tr_acc = np.mean(y_tr_pred == y_train)\n",
    "        val_acc = np.mean(y_val_pred == y_val)\n",
    "        \n",
    "        results[(alpha, beta)] = (tr_acc, val_acc)\n",
    "        \n",
    "        if(val_acc > best_val):\n",
    "            best_val = val_acc\n",
    "            best_softmax = softmax\n",
    "            \n",
    "        del softmax\n",
    "\n",
    "# *****END OF YOUR CODE (DO NOT DELETE/MODIFY THIS LINE)*****\n",
    "    \n",
    "# Print out results.\n",
    "for lr, reg in sorted(results):\n",
    "    train_accuracy, val_accuracy = results[(lr, reg)]\n",
    "    print('lr %e reg %e train accuracy: %f val accuracy: %f' % (\n",
    "                lr, reg, train_accuracy, val_accuracy))\n",
    "    \n",
    "print('best validation accuracy achieved during cross-validation: %f' % best_val)"
   ]
  },
  {
   "cell_type": "code",
   "execution_count": 7,
   "metadata": {},
   "outputs": [
    {
     "name": "stdout",
     "output_type": "stream",
     "text": [
      "softmax on raw pixels final test set accuracy: 0.353000\n"
     ]
    }
   ],
   "source": [
    "# evaluate on test set\n",
    "# Evaluate the best softmax on test set\n",
    "y_test_pred = best_softmax.predict(X_test)\n",
    "test_accuracy = np.mean(y_test == y_test_pred)\n",
    "print('softmax on raw pixels final test set accuracy: %f' % (test_accuracy, ))"
   ]
  },
  {
   "cell_type": "markdown",
   "metadata": {
    "tags": [
     "pdf-inline"
    ]
   },
   "source": [
    "**Inline Question 2** - *True or False*\n",
    "\n",
    "Suppose the overall training loss is defined as the sum of the per-datapoint loss over all training examples. It is possible to add a new datapoint to a training set that would leave the SVM loss unchanged, but this is not the case with the Softmax classifier loss.\n",
    "\n",
    "$\\color{blue}{\\textit Your Answer:}$ True\n",
    "\n",
    "\n",
    "$\\color{blue}{\\textit Your Explanation:}$ In the SVM loss, zero loss is achieved for a given training example if the margin is satisfied. This is not the case for Softmax loss. Since the softmax loss is a negative log of the normalized correct probability, the degree of the correct answer's \"correctness\" is considered in the loss.\n",
    "\n"
   ]
  },
  {
   "cell_type": "code",
   "execution_count": 13,
   "metadata": {},
   "outputs": [
    {
     "data": {
      "image/png": "[encoded data removed]",
      "text/plain": [
       "<Figure size 432x288 with 10 Axes>"
      ]
     },
     "metadata": {
      "needs_background": "light"
     },
     "output_type": "display_data"
    }
   ],
   "source": [
    "# Visualize the learned weights for each class\n",
    "w = best_softmax.W[:-1,:] # strip out the bias\n",
    "w = w.reshape(32, 32, 3, 10)\n",
    "\n",
    "w_min, w_max = np.min(w), np.max(w)\n",
    "\n",
    "classes = ['plane', 'car', 'bird', 'cat', 'deer', 'dog', 'frog', 'horse', 'ship', 'truck']\n",
    "for i in range(10):\n",
    "    plt.subplot(2, 5, i + 1)\n",
    "    \n",
    "    # Rescale the weights to be between 0 and 255\n",
    "    wimg = 255.0 * (w[:, :, :, i].squeeze() - w_min) / (w_max - w_min)\n",
    "    plt.imshow(wimg.astype('uint8'))\n",
    "    plt.axis('off')\n",
    "    plt.title(classes[i])"
   ]
  },
  {
   "cell_type": "code",
   "execution_count": null,
   "metadata": {},
   "outputs": [],
   "source": []
  }
 ],
 "metadata": {
  "kernelspec": {
   "display_name": "Python 3",
   "language": "python",
   "name": "python3"
  },
  "language_info": {
   "codemirror_mode": {
    "name": "ipython",
    "version": 3
   },
   "file_extension": ".py",
   "mimetype": "text/x-python",
   "name": "python",
   "nbconvert_exporter": "python",
   "pygments_lexer": "ipython3",
   "version": "3.7.0"
  }
 },
 "nbformat": 4,
 "nbformat_minor": 1
}
